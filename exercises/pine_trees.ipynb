{
  "cells": [
    {
      "cell_type": "markdown",
      "metadata": {
        "id": "wDcLwk1x4ySg"
      },
      "source": [
        "First off, you need to open this notebook in Google Colab. This time, you will need to download this notebook and upload it to your Google Drive. Once it's in your Google Drive, you can open it with Google Colab. "
      ]
    },
    {
      "cell_type": "markdown",
      "metadata": {
        "id": "UskFMoRJ4ySi"
      },
      "source": [
        "# HW2 : Pine Trees\n",
        "\n",
        "I would like you to channel your inner Bob Ross and write a python program that draws ASCII art pine trees.\n",
        "Your program should prompt the user to input the height of the tree they would like. Then it should draw a tree to the output area beneath your code. The tree should be made of astrix (*) . It should have a trunk visible at the bottom of the tree from the pipe symbol (|).\n",
        "\n",
        "An example run would look like below:"
      ]
    },
    {
      "cell_type": "code",
      "execution_count": 1,
      "metadata": {
        "colab": {
          "base_uri": "https://localhost:8080/",
          "height": 53
        },
        "id": "9Tp4Xhaq4ySj",
        "outputId": "aa621d31-207a-4664-def7-0617790d49ae"
      },
      "outputs": [
        {
          "output_type": "execute_result",
          "data": {
            "text/plain": [
              "'\\nHow tall should the tree be? 10\\n          *          \\n         ***         \\n        *****        \\n       *******       \\n      *********      \\n     ***********     \\n    *************    \\n   ***************   \\n  *****************  \\n ******************* \\n          |         \\n'"
            ],
            "application/vnd.google.colaboratory.intrinsic+json": {
              "type": "string"
            }
          },
          "metadata": {},
          "execution_count": 1
        }
      ],
      "source": [
        "'''\n",
        "How tall should the tree be? 10\n",
        "          *          \n",
        "         ***         \n",
        "        *****        \n",
        "       *******       \n",
        "      *********      \n",
        "     ***********     \n",
        "    *************    \n",
        "   ***************   \n",
        "  *****************  \n",
        " ******************* \n",
        "          |         \n",
        "'''"
      ]
    },
    {
      "cell_type": "markdown",
      "metadata": {
        "id": "O-MRx2WN4ySk"
      },
      "source": [
        "Here's another example with a shorter tree:"
      ]
    },
    {
      "cell_type": "code",
      "execution_count": 2,
      "metadata": {
        "colab": {
          "base_uri": "https://localhost:8080/",
          "height": 35
        },
        "id": "FmNTLhCV4ySk",
        "outputId": "b45ce2c4-649a-457a-8ebf-ae127588f96f"
      },
      "outputs": [
        {
          "output_type": "execute_result",
          "data": {
            "text/plain": [
              "'\\nHow tall should the tree be? 4\\n    *    \\n   ***   \\n  *****  \\n ******* \\n    |    \\n'"
            ],
            "application/vnd.google.colaboratory.intrinsic+json": {
              "type": "string"
            }
          },
          "metadata": {},
          "execution_count": 2
        }
      ],
      "source": [
        "'''\n",
        "How tall should the tree be? 4\n",
        "    *    \n",
        "   ***   \n",
        "  *****  \n",
        " ******* \n",
        "    |    \n",
        "'''"
      ]
    },
    {
      "cell_type": "markdown",
      "metadata": {
        "id": "mEyfx7l04ySk"
      },
      "source": [
        "### Here are some hints:\n",
        "\n",
        "* You will use the print function. \n",
        "  * I want you to use the print function to print only a single character at a time. \n",
        "  * For example, you should use `print(\"*\", end=\"\")` or `print(\" \", end=\"\")`.\n",
        "  \n",
        "  \n",
        "* In order to get this program to work, you will need to use for loops. \n",
        "  * You will write more than one for loop.\n",
        "\n",
        "* You will prompt the user to specify a length by asking \"How tall should the tree be?\"\n",
        "  * The user shoud be able to enter their answer on the same line as the question.\n",
        "  * After entering their answer, the tree should be drawn to the output area."
      ]
    },
    {
      "cell_type": "code",
      "execution_count": 153,
      "metadata": {
        "colab": {
          "base_uri": "https://localhost:8080/"
        },
        "id": "WdWBNbO14ySk",
        "outputId": "4f890339-715b-4fc5-810a-4744b66b902e"
      },
      "outputs": [
        {
          "output_type": "stream",
          "name": "stdout",
          "text": [
            "How tall should the tree be?: 20\n",
            "                    *                   \n",
            "                   ***                  \n",
            "                  *****                 \n",
            "                 *******                \n",
            "                *********               \n",
            "               ***********              \n",
            "              *************             \n",
            "             ***************            \n",
            "            *****************           \n",
            "           *******************          \n",
            "          *********************         \n",
            "         ***********************        \n",
            "        *************************       \n",
            "       ***************************      \n",
            "      *****************************     \n",
            "     *******************************    \n",
            "    *********************************   \n",
            "   ***********************************  \n",
            "  ************************************* \n",
            " ***************************************\n",
            "                    |\n"
          ]
        }
      ],
      "source": [
        "# Implement your code in this cell.\n",
        "import math\n",
        "\n",
        "def GeneratePyramidalTree(height): # Pyramidal\n",
        "  center = height // 2\n",
        "  for canopyLayer in range(height):\n",
        "    for i in range(height*2):\n",
        "        if i >= height - canopyLayer and i <= height + canopyLayer:\n",
        "            print(\"*\", end=\"\")\n",
        "        else:\n",
        "            print(\" \", end=\"\")\n",
        "    print(\"\")\n",
        "  for emptySpace in range(height):\n",
        "    print(\" \", end=\"\")\n",
        "  print(\"|\")\n",
        "\n",
        "def GenerateCircularTree(height): # Circular\n",
        "  center = height // 2\n",
        "  canopySize =  int(height // 1.5) # Redundant, only for readability\n",
        "  trunkLength = height - canopySize\n",
        "\n",
        "  canopyRadius = canopySize / 2 - 0.5\n",
        "  r = (canopyRadius + 0.25) ** 2 + 1\n",
        "\n",
        "  for canopyLayer in range(canopySize): # Top of canopy\n",
        "    y = (canopyLayer - canopyRadius) ** 2\n",
        "    for i in range(canopySize):\n",
        "        x = (i - canopyRadius) ** 2\n",
        "        if x + y <= r:\n",
        "            print(\"*\", end=\"\")\n",
        "            print(\" \", end=\"\")\n",
        "        else:\n",
        "            print(\" \", end=\"\")\n",
        "            print(\" \", end=\"\")\n",
        "    print(\"\")\n",
        "  for trunkSegment in range(trunkLength + 1): # Plus one to stay consistent with original prompt's format.\n",
        "    for space in range(int(canopyRadius * 2)):\n",
        "      print(\" \", end=\"\")\n",
        "    print(\"|\")\n",
        "\n",
        "treeHeight = int(input(\"How tall should the tree be?: \"))\n",
        "\n",
        "GeneratePyramidalTree(treeHeight)\n",
        "# GenerateCircularTree(treeHeight)"
      ]
    },
    {
      "cell_type": "code",
      "source": [],
      "metadata": {
        "id": "cskFmSeu6o8l"
      },
      "execution_count": 148,
      "outputs": []
    }
  ],
  "metadata": {
    "kernelspec": {
      "display_name": "Python 3",
      "language": "python",
      "name": "python3"
    },
    "language_info": {
      "codemirror_mode": {
        "name": "ipython",
        "version": 3
      },
      "file_extension": ".py",
      "mimetype": "text/x-python",
      "name": "python",
      "nbconvert_exporter": "python",
      "pygments_lexer": "ipython3",
      "version": "3.10.6"
    },
    "orig_nbformat": 4,
    "colab": {
      "provenance": []
    }
  },
  "nbformat": 4,
  "nbformat_minor": 0
}
